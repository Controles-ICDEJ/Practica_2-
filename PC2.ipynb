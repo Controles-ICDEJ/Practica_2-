{
 "cells": [
  {
   "cell_type": "code",
   "execution_count": 1,
   "id": "c5425848-b2e1-4994-a71a-9641a010b0b6",
   "metadata": {},
   "outputs": [],
   "source": [
    "## Código para la PC2 IDCE \n",
    "# Nombre: Joaquin Emilio López Málaga \n",
    "# código: 20221484"
   ]
  },
  {
   "cell_type": "code",
   "execution_count": 2,
   "id": "8147b740-565e-424b-83ba-706d4bae4010",
   "metadata": {},
   "outputs": [],
   "source": [
    "# Iniciamos el procedimiento llamando a instalar a pandas y openpyxl (este último debido a que el archivo es un .xlsx)"
   ]
  },
  {
   "cell_type": "code",
   "execution_count": 3,
   "id": "b21f27e4-a801-463b-9b76-2c186e20cacd",
   "metadata": {},
   "outputs": [
    {
     "name": "stdout",
     "output_type": "stream",
     "text": [
      "Defaulting to user installation because normal site-packages is not writeable\n",
      "Requirement already satisfied: pandas in c:\\programdata\\anaconda3\\envs\\cienciadatospucp\\lib\\site-packages (2.2.2)\n",
      "Requirement already satisfied: openpyxl in c:\\programdata\\anaconda3\\envs\\cienciadatospucp\\lib\\site-packages (3.1.5)\n",
      "Requirement already satisfied: numpy>=1.26.0 in c:\\programdata\\anaconda3\\envs\\cienciadatospucp\\lib\\site-packages (from pandas) (1.26.4)\n",
      "Requirement already satisfied: python-dateutil>=2.8.2 in c:\\programdata\\anaconda3\\envs\\cienciadatospucp\\lib\\site-packages (from pandas) (2.9.0.post0)\n",
      "Requirement already satisfied: pytz>=2020.1 in c:\\programdata\\anaconda3\\envs\\cienciadatospucp\\lib\\site-packages (from pandas) (2024.1)\n",
      "Requirement already satisfied: tzdata>=2022.7 in c:\\programdata\\anaconda3\\envs\\cienciadatospucp\\lib\\site-packages (from pandas) (2023.3)\n",
      "Requirement already satisfied: et-xmlfile in c:\\programdata\\anaconda3\\envs\\cienciadatospucp\\lib\\site-packages (from openpyxl) (1.1.0)\n",
      "Requirement already satisfied: six>=1.5 in c:\\programdata\\anaconda3\\envs\\cienciadatospucp\\lib\\site-packages (from python-dateutil>=2.8.2->pandas) (1.16.0)\n",
      "Note: you may need to restart the kernel to use updated packages.\n"
     ]
    }
   ],
   "source": [
    "pip install pandas openpyxl"
   ]
  },
  {
   "cell_type": "code",
   "execution_count": 4,
   "id": "0c0d7c8f-1369-47bc-9492-209692f1e8c0",
   "metadata": {},
   "outputs": [],
   "source": [
    "# LLamamos a pandas para empezar a trabajar, además de leer el archivo HDI.xlsx"
   ]
  },
  {
   "cell_type": "code",
   "execution_count": 5,
   "id": "a350add7-e6b2-4223-8991-be900ed41d66",
   "metadata": {},
   "outputs": [],
   "source": [
    "import pandas as pd"
   ]
  },
  {
   "cell_type": "code",
   "execution_count": 6,
   "id": "477de5dd-94c0-42e8-b3d7-db0ddb513da9",
   "metadata": {},
   "outputs": [],
   "source": [
    "DF_HDI = pd.read_excel('HDI.xlsx')"
   ]
  },
  {
   "cell_type": "code",
   "execution_count": 7,
   "id": "068be0e2-74c6-4b31-b751-5f7b57f6c12e",
   "metadata": {},
   "outputs": [],
   "source": [
    "# La data Frame dada tiene dms filas innecesarias, por esta razón limitamos a 230 filas que es donde todavia hay data de valor \n",
    "DF_HDI = DF_HDI.iloc[:230]"
   ]
  },
  {
   "cell_type": "code",
   "execution_count": 8,
   "id": "ab5856b1-db3e-427e-9a36-a110bb92ce4a",
   "metadata": {},
   "outputs": [],
   "source": [
    "# Eliminar las primeras 4 filas que no contienen datos útiles\n",
    "DF_HDI_Limpio = DF_HDI.drop(index=[0, 1, 2, 3]).reset_index(drop=True)"
   ]
  },
  {
   "cell_type": "code",
   "execution_count": 9,
   "id": "43dd8d73-900b-4ef2-8cf1-322de753f352",
   "metadata": {},
   "outputs": [],
   "source": [
    "# Establecemos los encabezados de forma adecuada \n",
    "DF_HDI_Limpio.columns = DF_HDI_Limpio.iloc[0]\n",
    "DF_HDI_Limpio = DF_HDI_Limpio.drop(0).reset_index(drop=True)"
   ]
  },
  {
   "cell_type": "code",
   "execution_count": 10,
   "id": "aefbbe55-c755-4a0a-a010-fade572baeff",
   "metadata": {},
   "outputs": [],
   "source": [
    "# Renombrar las columnas con los nombres correctos basados en el archivo de Excel\n",
    "column_nombres = [\n",
    "    'HDI rank', 'Country', 'Human Development Index (HDI)', 'NADA',\n",
    "    'Life expectancy at birth (years)', 'NADA', 'Expected years of schooling (years)', \n",
    "    'NADA', 'Mean years of schooling (years)', 'NADA', \n",
    "    'Gross national income (GNI) per capita (2017 PPP $)',\n",
    "    'NADA','GNI per capita rank minus HDI rank', 'NADA','HDI rank (2020)'\n",
    "]"
   ]
  },
  {
   "cell_type": "code",
   "execution_count": 11,
   "id": "609b1f12-f592-4069-9d83-afc55f204e95",
   "metadata": {},
   "outputs": [],
   "source": [
    "# Establecemos el cambio \n",
    "DF_HDI_Limpio.columns = column_nombres"
   ]
  },
  {
   "cell_type": "code",
   "execution_count": 12,
   "id": "ad2f3e8a-8e74-4218-b2e1-acbd38d3f749",
   "metadata": {},
   "outputs": [],
   "source": [
    "# Eliminamos las columnas específicas por índice: 3, 5, 7, 9, 11, 13\n",
    "columns_eliminar = DF_HDI_Limpio.columns[[3, 5, 7, 9, 11, 13]]\n",
    "DF_HDI_Limpio = DF_HDI_Limpio.drop(columns=columns_eliminar)"
   ]
  },
  {
   "cell_type": "code",
   "execution_count": 13,
   "id": "3ad51021-cbd5-4a2d-beab-4c79008b28ac",
   "metadata": {},
   "outputs": [],
   "source": [
    "# Creamos una nueva columna 'Human development groups'\n",
    "DF_HDI_Limpio['Human development groups'] = pd.NA"
   ]
  },
  {
   "cell_type": "code",
   "execution_count": 14,
   "id": "5289e3dc-41d3-4498-995a-da66d434c346",
   "metadata": {},
   "outputs": [],
   "source": [
    "# Añadimos la lista de índices donde están las celdas combinadas (filas que no aportan información útil)\n",
    "grupo_filas = [8, 75, 125, 170, 203]"
   ]
  },
  {
   "cell_type": "code",
   "execution_count": 15,
   "id": "984579aa-cb1e-4bd2-9233-0ceff737a8f1",
   "metadata": {},
   "outputs": [],
   "source": [
    "# Asignar los valores de estas filas a la nueva columna y eliminar las filas\n",
    "for index in grupo_filas:\n",
    "    groupo_nombre = DF_HDI_Limpio.loc[index, 'Country']  \n",
    "    DF_HDI_Limpio.loc[index + 1:, 'Human_development_groups'] = groupo_nombre  # Asignamos el grupo a las filas siguientes"
   ]
  },
  {
   "cell_type": "code",
   "execution_count": 16,
   "id": "4b88e43a-d529-4cda-8089-2844ac0183e3",
   "metadata": {},
   "outputs": [],
   "source": [
    "# Eliminamos las filas con los títulos de grupo (filas combinadas)\n",
    "DF_HDI_Limpio = DF_HDI_Limpio.drop(index=grupo_filas).reset_index(drop=True)"
   ]
  },
  {
   "cell_type": "code",
   "execution_count": 17,
   "id": "75d0af1b-2f86-4117-ac1f-7fa80e98542c",
   "metadata": {},
   "outputs": [],
   "source": [
    "# Duplicamos 'Human development groups' en una nueva columna y hacer el mapeo numérico\n",
    "DF_HDI_Limpio['Human_development_groups_num'] = DF_HDI_Limpio['Human development groups']\n",
    "mapper1 = {\n",
    "    'Low human development': 1, \n",
    "    'Medium human development': 2,\n",
    "    'High human development': 3,\n",
    "    'Very high human development': 4\n",
    "}"
   ]
  },
  {
   "cell_type": "code",
   "execution_count": 18,
   "id": "8ef563c1-4669-43ca-9246-00f273d2b4fb",
   "metadata": {},
   "outputs": [],
   "source": [
    "# Reemplazamos los valores en la nueva columna\n",
    "DF_HDI_Limpio['Human_development_groups_num'] = DF_HDI_Limpio['Human_development_groups_num'].replace(mapper1)"
   ]
  },
  {
   "cell_type": "code",
   "execution_count": 19,
   "id": "eaaaba94-e4c4-4f60-b29e-3cfcc4f5e381",
   "metadata": {},
   "outputs": [],
   "source": [
    "# Ahora Reemplazamos las comas por puntos en todas las columnas excepto 'Country'\n",
    "columns_a_convertir = DF_HDI_Limpio.columns.drop(['Country'])"
   ]
  },
  {
   "cell_type": "code",
   "execution_count": 20,
   "id": "ae13709a-ca09-4300-bbba-d89f2871e131",
   "metadata": {},
   "outputs": [],
   "source": [
    "# Para este caso, vamos a convertir temporalmente a string y reemplazar comas por puntos, esto es debido a que nos sale error sin solo tratamos de cambiarlo \n",
    "DF_HDI_Limpio[columns_a_convertir] = DF_HDI_Limpio[columns_a_convertir].apply(lambda x: x.astype(str).str.replace(',', '.'))"
   ]
  },
  {
   "cell_type": "code",
   "execution_count": 21,
   "id": "bd3c4d0c-3448-4f69-bbb8-ec5d2253b271",
   "metadata": {},
   "outputs": [],
   "source": [
    "# 7. Convertir nuevamente todas las columnas a numérico excepto 'Country'\n",
    "DF_HDI_Limpio[columns_a_convertir] = DF_HDI_Limpio[columns_a_convertir].apply(pd.to_numeric, errors='coerce')"
   ]
  },
  {
   "cell_type": "code",
   "execution_count": 22,
   "id": "a19b6ed9-8bd2-40cc-9ade-c82d1b1332cb",
   "metadata": {},
   "outputs": [],
   "source": [
    "# 8. Eliminar las columnas 10 y 11\n",
    "DF_HDI_Limpio = DF_HDI_Limpio.drop(DF_HDI_Limpio.columns[[10, 11]], axis=1)"
   ]
  },
  {
   "cell_type": "code",
   "execution_count": 23,
   "id": "1ae43683-9e40-4b99-9eff-1af2b44d3f16",
   "metadata": {},
   "outputs": [],
   "source": [
    "DF_HDI_Limpio.dropna(how='all', inplace=True)"
   ]
  },
  {
   "cell_type": "code",
   "execution_count": 24,
   "id": "e47fe49c-ecd4-445c-b002-1ecb20bcde8a",
   "metadata": {},
   "outputs": [
    {
     "data": {
      "text/html": [
       "<div>\n",
       "<style scoped>\n",
       "    .dataframe tbody tr th:only-of-type {\n",
       "        vertical-align: middle;\n",
       "    }\n",
       "\n",
       "    .dataframe tbody tr th {\n",
       "        vertical-align: top;\n",
       "    }\n",
       "\n",
       "    .dataframe thead th {\n",
       "        text-align: right;\n",
       "    }\n",
       "</style>\n",
       "<table border=\"1\" class=\"dataframe\">\n",
       "  <thead>\n",
       "    <tr style=\"text-align: right;\">\n",
       "      <th></th>\n",
       "      <th>HDI rank</th>\n",
       "      <th>Country</th>\n",
       "      <th>Human Development Index (HDI)</th>\n",
       "      <th>Life expectancy at birth (years)</th>\n",
       "      <th>Expected years of schooling (years)</th>\n",
       "      <th>Mean years of schooling (years)</th>\n",
       "      <th>Gross national income (GNI) per capita (2017 PPP $)</th>\n",
       "      <th>GNI per capita rank minus HDI rank</th>\n",
       "      <th>HDI rank (2020)</th>\n",
       "      <th>Human development groups</th>\n",
       "    </tr>\n",
       "  </thead>\n",
       "  <tbody>\n",
       "    <tr>\n",
       "      <th>0</th>\n",
       "      <td>NaN</td>\n",
       "      <td>NaN</td>\n",
       "      <td>2021.000</td>\n",
       "      <td>2021.000000</td>\n",
       "      <td>2021.000000</td>\n",
       "      <td>2021.000000</td>\n",
       "      <td>2021.000000</td>\n",
       "      <td>2021.0</td>\n",
       "      <td>2020.0</td>\n",
       "      <td>NaN</td>\n",
       "    </tr>\n",
       "    <tr>\n",
       "      <th>1</th>\n",
       "      <td>NaN</td>\n",
       "      <td>VERY HIGH HUMAN DEVELOPMENT</td>\n",
       "      <td>NaN</td>\n",
       "      <td>NaN</td>\n",
       "      <td>NaN</td>\n",
       "      <td>NaN</td>\n",
       "      <td>NaN</td>\n",
       "      <td>NaN</td>\n",
       "      <td>NaN</td>\n",
       "      <td>NaN</td>\n",
       "    </tr>\n",
       "    <tr>\n",
       "      <th>2</th>\n",
       "      <td>1.0</td>\n",
       "      <td>Switzerland</td>\n",
       "      <td>0.962</td>\n",
       "      <td>83.987200</td>\n",
       "      <td>16.500299</td>\n",
       "      <td>13.859660</td>\n",
       "      <td>66933.004540</td>\n",
       "      <td>5.0</td>\n",
       "      <td>3.0</td>\n",
       "      <td>NaN</td>\n",
       "    </tr>\n",
       "    <tr>\n",
       "      <th>3</th>\n",
       "      <td>2.0</td>\n",
       "      <td>Norway</td>\n",
       "      <td>0.961</td>\n",
       "      <td>83.233900</td>\n",
       "      <td>18.185200</td>\n",
       "      <td>13.003630</td>\n",
       "      <td>64660.106220</td>\n",
       "      <td>6.0</td>\n",
       "      <td>1.0</td>\n",
       "      <td>NaN</td>\n",
       "    </tr>\n",
       "    <tr>\n",
       "      <th>4</th>\n",
       "      <td>3.0</td>\n",
       "      <td>Iceland</td>\n",
       "      <td>0.959</td>\n",
       "      <td>82.678200</td>\n",
       "      <td>19.163059</td>\n",
       "      <td>13.767170</td>\n",
       "      <td>55782.049810</td>\n",
       "      <td>11.0</td>\n",
       "      <td>2.0</td>\n",
       "      <td>NaN</td>\n",
       "    </tr>\n",
       "    <tr>\n",
       "      <th>...</th>\n",
       "      <td>...</td>\n",
       "      <td>...</td>\n",
       "      <td>...</td>\n",
       "      <td>...</td>\n",
       "      <td>...</td>\n",
       "      <td>...</td>\n",
       "      <td>...</td>\n",
       "      <td>...</td>\n",
       "      <td>...</td>\n",
       "      <td>...</td>\n",
       "    </tr>\n",
       "    <tr>\n",
       "      <th>211</th>\n",
       "      <td>NaN</td>\n",
       "      <td>Sub-Saharan Africa</td>\n",
       "      <td>0.547</td>\n",
       "      <td>60.112467</td>\n",
       "      <td>10.267338</td>\n",
       "      <td>6.001639</td>\n",
       "      <td>3698.868914</td>\n",
       "      <td>NaN</td>\n",
       "      <td>NaN</td>\n",
       "      <td>NaN</td>\n",
       "    </tr>\n",
       "    <tr>\n",
       "      <th>213</th>\n",
       "      <td>NaN</td>\n",
       "      <td>Least developed countries</td>\n",
       "      <td>0.540</td>\n",
       "      <td>64.215856</td>\n",
       "      <td>10.182659</td>\n",
       "      <td>5.215320</td>\n",
       "      <td>2880.652487</td>\n",
       "      <td>NaN</td>\n",
       "      <td>NaN</td>\n",
       "      <td>NaN</td>\n",
       "    </tr>\n",
       "    <tr>\n",
       "      <th>214</th>\n",
       "      <td>NaN</td>\n",
       "      <td>Small island developing states</td>\n",
       "      <td>0.730</td>\n",
       "      <td>70.325547</td>\n",
       "      <td>12.422289</td>\n",
       "      <td>9.089640</td>\n",
       "      <td>16782.329527</td>\n",
       "      <td>NaN</td>\n",
       "      <td>NaN</td>\n",
       "      <td>NaN</td>\n",
       "    </tr>\n",
       "    <tr>\n",
       "      <th>216</th>\n",
       "      <td>NaN</td>\n",
       "      <td>Organisation for Economic Co-operation and Dev...</td>\n",
       "      <td>0.899</td>\n",
       "      <td>78.987605</td>\n",
       "      <td>16.459253</td>\n",
       "      <td>12.267755</td>\n",
       "      <td>45086.969067</td>\n",
       "      <td>NaN</td>\n",
       "      <td>NaN</td>\n",
       "      <td>NaN</td>\n",
       "    </tr>\n",
       "    <tr>\n",
       "      <th>218</th>\n",
       "      <td>NaN</td>\n",
       "      <td>World</td>\n",
       "      <td>0.732</td>\n",
       "      <td>71.365465</td>\n",
       "      <td>12.780907</td>\n",
       "      <td>8.617461</td>\n",
       "      <td>16752.082922</td>\n",
       "      <td>NaN</td>\n",
       "      <td>NaN</td>\n",
       "      <td>NaN</td>\n",
       "    </tr>\n",
       "  </tbody>\n",
       "</table>\n",
       "<p>213 rows × 10 columns</p>\n",
       "</div>"
      ],
      "text/plain": [
       "     HDI rank                                            Country  \\\n",
       "0         NaN                                                NaN   \n",
       "1         NaN                        VERY HIGH HUMAN DEVELOPMENT   \n",
       "2         1.0                                        Switzerland   \n",
       "3         2.0                                             Norway   \n",
       "4         3.0                                            Iceland   \n",
       "..        ...                                                ...   \n",
       "211       NaN                                 Sub-Saharan Africa   \n",
       "213       NaN                          Least developed countries   \n",
       "214       NaN                     Small island developing states   \n",
       "216       NaN  Organisation for Economic Co-operation and Dev...   \n",
       "218       NaN                                              World   \n",
       "\n",
       "     Human Development Index (HDI)  Life expectancy at birth (years)  \\\n",
       "0                         2021.000                       2021.000000   \n",
       "1                              NaN                               NaN   \n",
       "2                            0.962                         83.987200   \n",
       "3                            0.961                         83.233900   \n",
       "4                            0.959                         82.678200   \n",
       "..                             ...                               ...   \n",
       "211                          0.547                         60.112467   \n",
       "213                          0.540                         64.215856   \n",
       "214                          0.730                         70.325547   \n",
       "216                          0.899                         78.987605   \n",
       "218                          0.732                         71.365465   \n",
       "\n",
       "     Expected years of schooling (years)  Mean years of schooling (years)  \\\n",
       "0                            2021.000000                      2021.000000   \n",
       "1                                    NaN                              NaN   \n",
       "2                              16.500299                        13.859660   \n",
       "3                              18.185200                        13.003630   \n",
       "4                              19.163059                        13.767170   \n",
       "..                                   ...                              ...   \n",
       "211                            10.267338                         6.001639   \n",
       "213                            10.182659                         5.215320   \n",
       "214                            12.422289                         9.089640   \n",
       "216                            16.459253                        12.267755   \n",
       "218                            12.780907                         8.617461   \n",
       "\n",
       "     Gross national income (GNI) per capita (2017 PPP $)  \\\n",
       "0                                          2021.000000     \n",
       "1                                                  NaN     \n",
       "2                                         66933.004540     \n",
       "3                                         64660.106220     \n",
       "4                                         55782.049810     \n",
       "..                                                 ...     \n",
       "211                                        3698.868914     \n",
       "213                                        2880.652487     \n",
       "214                                       16782.329527     \n",
       "216                                       45086.969067     \n",
       "218                                       16752.082922     \n",
       "\n",
       "     GNI per capita rank minus HDI rank  HDI rank (2020)  \\\n",
       "0                                2021.0           2020.0   \n",
       "1                                   NaN              NaN   \n",
       "2                                   5.0              3.0   \n",
       "3                                   6.0              1.0   \n",
       "4                                  11.0              2.0   \n",
       "..                                  ...              ...   \n",
       "211                                 NaN              NaN   \n",
       "213                                 NaN              NaN   \n",
       "214                                 NaN              NaN   \n",
       "216                                 NaN              NaN   \n",
       "218                                 NaN              NaN   \n",
       "\n",
       "     Human development groups  \n",
       "0                         NaN  \n",
       "1                         NaN  \n",
       "2                         NaN  \n",
       "3                         NaN  \n",
       "4                         NaN  \n",
       "..                        ...  \n",
       "211                       NaN  \n",
       "213                       NaN  \n",
       "214                       NaN  \n",
       "216                       NaN  \n",
       "218                       NaN  \n",
       "\n",
       "[213 rows x 10 columns]"
      ]
     },
     "execution_count": 24,
     "metadata": {},
     "output_type": "execute_result"
    }
   ],
   "source": [
    "DF_HDI_Limpio"
   ]
  }
 ],
 "metadata": {
  "kernelspec": {
   "display_name": "Python 3 (ipykernel)",
   "language": "python",
   "name": "python3"
  },
  "language_info": {
   "codemirror_mode": {
    "name": "ipython",
    "version": 3
   },
   "file_extension": ".py",
   "mimetype": "text/x-python",
   "name": "python",
   "nbconvert_exporter": "python",
   "pygments_lexer": "ipython3",
   "version": "3.12.4"
  }
 },
 "nbformat": 4,
 "nbformat_minor": 5
}
